{
 "cells": [
  {
   "cell_type": "code",
   "execution_count": 1,
   "metadata": {},
   "outputs": [],
   "source": [
    "import pandas as pd\n",
    "import torch\n",
    "from sklearn.model_selection import train_test_split\n",
    "\n",
    "from torch.utils.data import DataLoader \n",
    "from dataset import DuplicateDataset\n",
    "from nltk.tokenize import word_tokenize\n",
    "\n",
    "from utils import get_test_questions, get_vocab_train_questions, get_tensors\n",
    "from train_evaluate import TrianEvaluate\n",
    "from model import DuplicatesNetwork\n",
    "from utils import predict \n",
    "\n",
    "import matplotlib.pyplot as plt \n",
    "from tqdm import tqdm \n",
    "\n",
    "\n",
    "os.environ[\"CUDA_DEVICE_ORDER\"]=\"PCI_BUS_ID\" \n",
    "os.environ[\"CUDA_VISIBLE_DEVICES\"]=\"3\"\n",
    "\n",
    "%load_ext autoreload\n",
    "%autoreload 2"
   ]
  },
  {
   "cell_type": "code",
   "execution_count": 2,
   "metadata": {},
   "outputs": [
    {
     "data": {
      "text/plain": [
       "'cuda'"
      ]
     },
     "execution_count": 2,
     "metadata": {},
     "output_type": "execute_result"
    }
   ],
   "source": [
    "batch_size = 64 \n",
    "num_workers = 12\n",
    "max_length = 55\n",
    "device = 'cuda' if torch.cuda.is_available() else 'cpu'\n",
    "device"
   ]
  },
  {
   "cell_type": "markdown",
   "metadata": {},
   "source": [
    "# Data Analysis"
   ]
  },
  {
   "cell_type": "code",
   "execution_count": 3,
   "metadata": {},
   "outputs": [
    {
     "data": {
      "text/html": [
       "<div>\n",
       "<style scoped>\n",
       "    .dataframe tbody tr th:only-of-type {\n",
       "        vertical-align: middle;\n",
       "    }\n",
       "\n",
       "    .dataframe tbody tr th {\n",
       "        vertical-align: top;\n",
       "    }\n",
       "\n",
       "    .dataframe thead th {\n",
       "        text-align: right;\n",
       "    }\n",
       "</style>\n",
       "<table border=\"1\" class=\"dataframe\">\n",
       "  <thead>\n",
       "    <tr style=\"text-align: right;\">\n",
       "      <th></th>\n",
       "      <th>question1</th>\n",
       "      <th>question2</th>\n",
       "      <th>is_duplicate</th>\n",
       "    </tr>\n",
       "  </thead>\n",
       "  <tbody>\n",
       "    <tr>\n",
       "      <th>5</th>\n",
       "      <td>Astrology: I am a Capricorn Sun Cap moon and c...</td>\n",
       "      <td>I'm a triple Capricorn (Sun, Moon and ascendan...</td>\n",
       "      <td>1</td>\n",
       "    </tr>\n",
       "    <tr>\n",
       "      <th>7</th>\n",
       "      <td>How can I be a good geologist?</td>\n",
       "      <td>What should I do to be a great geologist?</td>\n",
       "      <td>1</td>\n",
       "    </tr>\n",
       "    <tr>\n",
       "      <th>11</th>\n",
       "      <td>How do I read and find my YouTube comments?</td>\n",
       "      <td>How can I see all my Youtube comments?</td>\n",
       "      <td>1</td>\n",
       "    </tr>\n",
       "    <tr>\n",
       "      <th>12</th>\n",
       "      <td>What can make Physics easy to learn?</td>\n",
       "      <td>How can you make physics easy to learn?</td>\n",
       "      <td>1</td>\n",
       "    </tr>\n",
       "    <tr>\n",
       "      <th>13</th>\n",
       "      <td>What was your first sexual experience like?</td>\n",
       "      <td>What was your first sexual experience?</td>\n",
       "      <td>1</td>\n",
       "    </tr>\n",
       "  </tbody>\n",
       "</table>\n",
       "</div>"
      ],
      "text/plain": [
       "                                            question1  \\\n",
       "5   Astrology: I am a Capricorn Sun Cap moon and c...   \n",
       "7                      How can I be a good geologist?   \n",
       "11        How do I read and find my YouTube comments?   \n",
       "12               What can make Physics easy to learn?   \n",
       "13        What was your first sexual experience like?   \n",
       "\n",
       "                                            question2  is_duplicate  \n",
       "5   I'm a triple Capricorn (Sun, Moon and ascendan...             1  \n",
       "7           What should I do to be a great geologist?             1  \n",
       "11             How can I see all my Youtube comments?             1  \n",
       "12            How can you make physics easy to learn?             1  \n",
       "13             What was your first sexual experience?             1  "
      ]
     },
     "execution_count": 3,
     "metadata": {},
     "output_type": "execute_result"
    }
   ],
   "source": [
    "data = pd.read_csv('questions.csv')\n",
    "data = data.drop(['id', 'qid2', 'qid1'], axis = 1)\n",
    "duplicaate_data = data[data['is_duplicate'] == 1]\n",
    "duplicaate_data.head()"
   ]
  },
  {
   "cell_type": "code",
   "execution_count": 4,
   "metadata": {},
   "outputs": [
    {
     "data": {
      "text/html": [
       "<div>\n",
       "<style scoped>\n",
       "    .dataframe tbody tr th:only-of-type {\n",
       "        vertical-align: middle;\n",
       "    }\n",
       "\n",
       "    .dataframe tbody tr th {\n",
       "        vertical-align: top;\n",
       "    }\n",
       "\n",
       "    .dataframe thead th {\n",
       "        text-align: right;\n",
       "    }\n",
       "</style>\n",
       "<table border=\"1\" class=\"dataframe\">\n",
       "  <thead>\n",
       "    <tr style=\"text-align: right;\">\n",
       "      <th></th>\n",
       "      <th>question1</th>\n",
       "      <th>question2</th>\n",
       "      <th>is_duplicate</th>\n",
       "    </tr>\n",
       "  </thead>\n",
       "  <tbody>\n",
       "    <tr>\n",
       "      <th>275470</th>\n",
       "      <td>How can I stop temptation to watch porn?</td>\n",
       "      <td>How can I stop watching porn?</td>\n",
       "      <td>1</td>\n",
       "    </tr>\n",
       "    <tr>\n",
       "      <th>317036</th>\n",
       "      <td>Why is Hillary Clinton considered corrupt?</td>\n",
       "      <td>Are the Clintons corrupt?</td>\n",
       "      <td>1</td>\n",
       "    </tr>\n",
       "    <tr>\n",
       "      <th>48584</th>\n",
       "      <td>What recommendations would you like to give to...</td>\n",
       "      <td>Recommendations to Walt Disney?</td>\n",
       "      <td>1</td>\n",
       "    </tr>\n",
       "    <tr>\n",
       "      <th>214600</th>\n",
       "      <td>How do I hack into someone WiFi network?</td>\n",
       "      <td>How to hack Wifi?</td>\n",
       "      <td>1</td>\n",
       "    </tr>\n",
       "    <tr>\n",
       "      <th>68229</th>\n",
       "      <td>What are some best ways to earn money in a par...</td>\n",
       "      <td>What are the good ways to earn money from part...</td>\n",
       "      <td>1</td>\n",
       "    </tr>\n",
       "  </tbody>\n",
       "</table>\n",
       "</div>"
      ],
      "text/plain": [
       "                                                question1  \\\n",
       "275470           How can I stop temptation to watch porn?   \n",
       "317036         Why is Hillary Clinton considered corrupt?   \n",
       "48584   What recommendations would you like to give to...   \n",
       "214600           How do I hack into someone WiFi network?   \n",
       "68229   What are some best ways to earn money in a par...   \n",
       "\n",
       "                                                question2  is_duplicate  \n",
       "275470                      How can I stop watching porn?             1  \n",
       "317036                          Are the Clintons corrupt?             1  \n",
       "48584                     Recommendations to Walt Disney?             1  \n",
       "214600                                  How to hack Wifi?             1  \n",
       "68229   What are the good ways to earn money from part...             1  "
      ]
     },
     "execution_count": 4,
     "metadata": {},
     "output_type": "execute_result"
    }
   ],
   "source": [
    "train_data, test_data = train_test_split(duplicaate_data, test_size = 0.1, random_state = 42)\n",
    "train_data.head()"
   ]
  },
  {
   "cell_type": "code",
   "execution_count": 5,
   "metadata": {},
   "outputs": [
    {
     "name": "stdout",
     "output_type": "stream",
     "text": [
      "Total Number of Training Samples for Q1 (non-duplicates) = 134375\n",
      "Total Number of Testing Samples for Q1 (non-duplicates) = 14931\n",
      "Total Number of Training Samples for Q2 (non-duplicates) = 134375\n",
      "Total Number of Testing Samples for Q2 (non-duplicates) = 14931\n",
      "==================================================================\n",
      "Training Questions: \n",
      " Q1: How can I stop temptation to watch porn? \n",
      " Q2: How can I stop watching porn?\n",
      "Testing Questions: \n",
      " Q1: What is it like to be undergraduate students? \n",
      " Q2: What is it like to be an undergraduate student?\n"
     ]
    }
   ],
   "source": [
    "question1_train = train_data.question1.values\n",
    "question1_test = test_data.question1.values\n",
    "\n",
    "question2_train = train_data.question2.values\n",
    "question2_test = test_data.question2.values\n",
    "\n",
    "print(f'Total Number of Training Samples for Q1 (non-duplicates) = {len(question1_train)}')\n",
    "print(f'Total Number of Testing Samples for Q1 (non-duplicates) = {len(question1_test)}')\n",
    "\n",
    "print(f'Total Number of Training Samples for Q2 (non-duplicates) = {len(question2_train)}')\n",
    "print(f'Total Number of Testing Samples for Q2 (non-duplicates) = {len(question2_test)}')\n",
    "\n",
    "print('==================================================================')\n",
    "\n",
    "print(f'Training Questions: \\n Q1: {question1_train[0]} \\n Q2: {question2_train[0]}')\n",
    "print(f'Testing Questions: \\n Q1: {question1_test[0]} \\n Q2: {question2_test[0]}')"
   ]
  },
  {
   "cell_type": "markdown",
   "metadata": {},
   "source": [
    "# Tokenize Data and Get Vocab"
   ]
  },
  {
   "cell_type": "code",
   "execution_count": 6,
   "metadata": {},
   "outputs": [],
   "source": [
    "vocab, q1_train_tokenized , q2_train_tokenized = get_vocab_train_questions(question1_train, question2_train) \n",
    "idx_to_word = {i:d for d,i in vocab.items()}"
   ]
  },
  {
   "cell_type": "code",
   "execution_count": 7,
   "metadata": {},
   "outputs": [],
   "source": [
    "q1_test_tokenized, q2_test_tokenized = get_test_questions(question1_test, question2_test)"
   ]
  },
  {
   "cell_type": "code",
   "execution_count": 8,
   "metadata": {},
   "outputs": [
    {
     "data": {
      "image/png": "[encoded data removed]",
      "text/plain": [
       "<Figure size 432x288 with 1 Axes>"
      ]
     },
     "metadata": {
      "needs_background": "light"
     },
     "output_type": "display_data"
    },
    {
     "name": "stdout",
     "output_type": "stream",
     "text": [
      "Max len Q1 = 88\n",
      "Max len Q2 = 78\n"
     ]
    }
   ],
   "source": [
    "lens_q1 = [len(i) for i in q1_train_tokenized]\n",
    "lens_q2 = [len(i) for i in q2_train_tokenized]\n",
    "\n",
    "max_len_q1 = 0 \n",
    "max_len_q2 = 0 \n",
    "\n",
    "for q1, q2 in zip(q1_train_tokenized, q2_train_tokenized): \n",
    "    if len(q1) > max_len_q1:\n",
    "        max_len_q1 = len(q1)\n",
    "    if len(q2) > max_len_q2:\n",
    "        max_len_q2 = len(q2) \n",
    "plt.hist(lens_q1, label = 'train_q1', bins = 50)\n",
    "plt.hist(lens_q2, label = 'train_q2', bins = 50)\n",
    "plt.legend()\n",
    "plt.title('Length of Questions in ')\n",
    "plt.show()\n",
    "\n",
    "print(f'Max len Q1 = {max_len_q1}')\n",
    "print(f'Max len Q2 = {max_len_q2}')"
   ]
  },
  {
   "cell_type": "code",
   "execution_count": 9,
   "metadata": {},
   "outputs": [],
   "source": [
    "q1_train_tensor, q2_train_tensor = get_tensors(q1_train_tokenized, q2_train_tokenized, vocab)\n",
    "q1_test_tensor, q2_test_tensor = get_tensors(q1_test_tokenized, q2_test_tokenized, vocab)"
   ]
  },
  {
   "cell_type": "markdown",
   "metadata": {},
   "source": [
    "# Get the Dataset and DataLoader "
   ]
  },
  {
   "cell_type": "code",
   "execution_count": 10,
   "metadata": {},
   "outputs": [],
   "source": [
    "train_dataset = DuplicateDataset(question1= q1_train_tensor, question2= q2_train_tensor, max_len= max_length)\n",
    "test_dataset = DuplicateDataset(question1= q1_test_tensor, question2= q2_test_tensor, max_len= max_length)\n",
    "\n",
    "train_dataloader = DataLoader(train_dataset, batch_size= batch_size, shuffle=True, num_workers= num_workers)\n",
    "test_dataloader = DataLoader(test_dataset, batch_size= batch_size, shuffle=True, num_workers= num_workers)"
   ]
  },
  {
   "cell_type": "markdown",
   "metadata": {},
   "source": [
    "# Network \n"
   ]
  },
  {
   "cell_type": "code",
   "execution_count": 11,
   "metadata": {},
   "outputs": [],
   "source": [
    "model = DuplicatesNetwork(vocab_size = len(vocab), d_model = 512, n_LSTM = 3, padd = 1, batch_first = True).to(device)\n",
    "optimizer = torch.optim.Adam(params=model.parameters(), lr = 0.001)\n",
    "epochs = 15\n",
    "margin = 0.8\n",
    "threshold = 0.80\n",
    "trainer = TrianEvaluate(model= model, train_loader= train_dataloader, test_loader= test_dataloader, optimizer= optimizer, epochs = epochs, margin = margin, device= device)\n"
   ]
  },
  {
   "cell_type": "code",
   "execution_count": 12,
   "metadata": {},
   "outputs": [
    {
     "name": "stdout",
     "output_type": "stream",
     "text": [
      "Epoch 1/15\n"
     ]
    },
    {
     "name": "stderr",
     "output_type": "stream",
     "text": [
      "100%|██████████| 2100/2100 [01:10<00:00, 29.91it/s]\n"
     ]
    },
    {
     "name": "stdout",
     "output_type": "stream",
     "text": [
      " Loss = 0.908\n",
      "Accuracy = 0.731 \n",
      "\n",
      "Epoch 2/15\n"
     ]
    },
    {
     "name": "stderr",
     "output_type": "stream",
     "text": [
      "100%|██████████| 2100/2100 [01:09<00:00, 30.29it/s]\n"
     ]
    },
    {
     "name": "stdout",
     "output_type": "stream",
     "text": [
      " Loss = 0.511\n",
      "Accuracy = 0.668 \n",
      "\n",
      "Epoch 3/15\n"
     ]
    },
    {
     "name": "stderr",
     "output_type": "stream",
     "text": [
      "100%|██████████| 2100/2100 [01:08<00:00, 30.57it/s]\n"
     ]
    },
    {
     "name": "stdout",
     "output_type": "stream",
     "text": [
      " Loss = 0.295\n",
      "Accuracy = 0.778 \n",
      "\n",
      "=== Evaluation Phase ===\n"
     ]
    },
    {
     "name": "stderr",
     "output_type": "stream",
     "text": [
      "100%|██████████| 234/234 [00:04<00:00, 47.79it/s]\n"
     ]
    },
    {
     "name": "stdout",
     "output_type": "stream",
     "text": [
      "Eval Accuracy = 0.785\n",
      " ============================================================== \n",
      "Epoch 4/15\n"
     ]
    },
    {
     "name": "stderr",
     "output_type": "stream",
     "text": [
      "100%|██████████| 2100/2100 [01:09<00:00, 30.43it/s]\n"
     ]
    },
    {
     "name": "stdout",
     "output_type": "stream",
     "text": [
      " Loss = 0.212\n",
      "Accuracy = 0.844 \n",
      "\n",
      "Epoch 5/15\n"
     ]
    },
    {
     "name": "stderr",
     "output_type": "stream",
     "text": [
      "100%|██████████| 2100/2100 [01:10<00:00, 29.70it/s]\n"
     ]
    },
    {
     "name": "stdout",
     "output_type": "stream",
     "text": [
      " Loss = 0.170\n",
      "Accuracy = 0.882 \n",
      "\n",
      "Epoch 6/15\n"
     ]
    },
    {
     "name": "stderr",
     "output_type": "stream",
     "text": [
      "100%|██████████| 2100/2100 [01:09<00:00, 30.10it/s]\n"
     ]
    },
    {
     "name": "stdout",
     "output_type": "stream",
     "text": [
      " Loss = 0.143\n",
      "Accuracy = 0.907 \n",
      "\n",
      "=== Evaluation Phase ===\n"
     ]
    },
    {
     "name": "stderr",
     "output_type": "stream",
     "text": [
      "100%|██████████| 234/234 [00:05<00:00, 45.70it/s]\n"
     ]
    },
    {
     "name": "stdout",
     "output_type": "stream",
     "text": [
      "Eval Accuracy = 0.838\n",
      " ============================================================== \n",
      "Epoch 7/15\n"
     ]
    },
    {
     "name": "stderr",
     "output_type": "stream",
     "text": [
      "100%|██████████| 2100/2100 [01:08<00:00, 30.58it/s]\n"
     ]
    },
    {
     "name": "stdout",
     "output_type": "stream",
     "text": [
      " Loss = 0.127\n",
      "Accuracy = 0.923 \n",
      "\n",
      "Epoch 8/15\n"
     ]
    },
    {
     "name": "stderr",
     "output_type": "stream",
     "text": [
      "100%|██████████| 2100/2100 [01:07<00:00, 31.01it/s]\n"
     ]
    },
    {
     "name": "stdout",
     "output_type": "stream",
     "text": [
      " Loss = 0.113\n",
      "Accuracy = 0.935 \n",
      "\n",
      "Epoch 9/15\n"
     ]
    },
    {
     "name": "stderr",
     "output_type": "stream",
     "text": [
      "100%|██████████| 2100/2100 [01:07<00:00, 30.96it/s]\n"
     ]
    },
    {
     "name": "stdout",
     "output_type": "stream",
     "text": [
      " Loss = 0.105\n",
      "Accuracy = 0.944 \n",
      "\n",
      "=== Evaluation Phase ===\n"
     ]
    },
    {
     "name": "stderr",
     "output_type": "stream",
     "text": [
      "100%|██████████| 234/234 [00:04<00:00, 47.13it/s]\n"
     ]
    },
    {
     "name": "stdout",
     "output_type": "stream",
     "text": [
      "Eval Accuracy = 0.849\n",
      " ============================================================== \n",
      "Epoch 10/15\n"
     ]
    },
    {
     "name": "stderr",
     "output_type": "stream",
     "text": [
      "100%|██████████| 2100/2100 [01:09<00:00, 30.03it/s]\n"
     ]
    },
    {
     "name": "stdout",
     "output_type": "stream",
     "text": [
      " Loss = 0.099\n",
      "Accuracy = 0.950 \n",
      "\n",
      "Epoch 11/15\n"
     ]
    },
    {
     "name": "stderr",
     "output_type": "stream",
     "text": [
      "100%|██████████| 2100/2100 [01:12<00:00, 29.15it/s]\n"
     ]
    },
    {
     "name": "stdout",
     "output_type": "stream",
     "text": [
      " Loss = 0.093\n",
      "Accuracy = 0.955 \n",
      "\n",
      "Epoch 12/15\n"
     ]
    },
    {
     "name": "stderr",
     "output_type": "stream",
     "text": [
      "100%|██████████| 2100/2100 [01:08<00:00, 30.74it/s]\n"
     ]
    },
    {
     "name": "stdout",
     "output_type": "stream",
     "text": [
      " Loss = 0.088\n",
      "Accuracy = 0.960 \n",
      "\n",
      "=== Evaluation Phase ===\n"
     ]
    },
    {
     "name": "stderr",
     "output_type": "stream",
     "text": [
      "100%|██████████| 234/234 [00:04<00:00, 48.66it/s]\n"
     ]
    },
    {
     "name": "stdout",
     "output_type": "stream",
     "text": [
      "Eval Accuracy = 0.855\n",
      " ============================================================== \n",
      "Epoch 13/15\n"
     ]
    },
    {
     "name": "stderr",
     "output_type": "stream",
     "text": [
      "100%|██████████| 2100/2100 [01:09<00:00, 30.30it/s]\n"
     ]
    },
    {
     "name": "stdout",
     "output_type": "stream",
     "text": [
      " Loss = 0.085\n",
      "Accuracy = 0.962 \n",
      "\n",
      "Epoch 14/15\n"
     ]
    },
    {
     "name": "stderr",
     "output_type": "stream",
     "text": [
      "100%|██████████| 2100/2100 [01:08<00:00, 30.73it/s]\n"
     ]
    },
    {
     "name": "stdout",
     "output_type": "stream",
     "text": [
      " Loss = 0.081\n",
      "Accuracy = 0.965 \n",
      "\n",
      "Epoch 15/15\n"
     ]
    },
    {
     "name": "stderr",
     "output_type": "stream",
     "text": [
      "100%|██████████| 2100/2100 [01:08<00:00, 30.67it/s]\n"
     ]
    },
    {
     "name": "stdout",
     "output_type": "stream",
     "text": [
      " Loss = 0.080\n",
      "Accuracy = 0.968 \n",
      "\n",
      "=== Evaluation Phase ===\n"
     ]
    },
    {
     "name": "stderr",
     "output_type": "stream",
     "text": [
      "100%|██████████| 234/234 [00:04<00:00, 47.93it/s]\n"
     ]
    },
    {
     "name": "stdout",
     "output_type": "stream",
     "text": [
      "Eval Accuracy = 0.855\n",
      " ============================================================== \n",
      "==================== Final Evaluation ====================\n",
      "=== Evaluation Phase ===\n"
     ]
    },
    {
     "name": "stderr",
     "output_type": "stream",
     "text": [
      "100%|██████████| 234/234 [00:06<00:00, 37.87it/s]"
     ]
    },
    {
     "name": "stdout",
     "output_type": "stream",
     "text": [
      "Eval Accuracy = 0.855\n",
      " ============================================================== \n"
     ]
    },
    {
     "name": "stderr",
     "output_type": "stream",
     "text": [
      "\n"
     ]
    }
   ],
   "source": [
    "train_acc, train_loss = trainer.fit(threshold= threshold)"
   ]
  },
  {
   "cell_type": "code",
   "execution_count": 14,
   "metadata": {},
   "outputs": [
    {
     "name": "stdout",
     "output_type": "stream",
     "text": [
      "First Questions is: What is your name? \n",
      "Second Questions is: what is your age?\n",
      "Not Duplicate\n"
     ]
    }
   ],
   "source": [
    "predict(vocab= vocab, model= model, threshold= threshold, device=device)"
   ]
  },
  {
   "cell_type": "code",
   "execution_count": 16,
   "metadata": {},
   "outputs": [
    {
     "name": "stdout",
     "output_type": "stream",
     "text": [
      "First Questions is: What is your name? \n",
      "Second Questions is: What is your given name? \n",
      "Duplicate\n"
     ]
    }
   ],
   "source": [
    "predict(vocab= vocab, model= model, threshold= threshold, device=device)"
   ]
  },
  {
   "cell_type": "code",
   "execution_count": 18,
   "metadata": {},
   "outputs": [
    {
     "name": "stdout",
     "output_type": "stream",
     "text": [
      "First Questions is: How long does it take to reach Dubai from California?\n",
      "Second Questions is: How far is Dubai from California? \n",
      "Duplicate\n"
     ]
    }
   ],
   "source": [
    "predict(vocab= vocab, model= model, threshold= threshold, device=device)"
   ]
  }
 ],
 "metadata": {
  "kernelspec": {
   "display_name": "Python 3.9.7 ('transformer-env': conda)",
   "language": "python",
   "name": "python3"
  },
  "language_info": {
   "codemirror_mode": {
    "name": "ipython",
    "version": 3
   },
   "file_extension": ".py",
   "mimetype": "text/x-python",
   "name": "python",
   "nbconvert_exporter": "python",
   "pygments_lexer": "ipython3",
   "version": "3.9.7"
  },
  "orig_nbformat": 4,
  "vscode": {
   "interpreter": {
    "hash": "37906e3799e3dad222cfed0447967870e65218c8bdbf06cfd0739074c03b6910"
   }
  }
 },
 "nbformat": 4,
 "nbformat_minor": 2
}
